{
 "cells": [
  {
   "cell_type": "code",
   "execution_count": 1,
   "id": "d4663d8d-bbb1-4e32-916e-3d5e64d79fa9",
   "metadata": {},
   "outputs": [],
   "source": [
    "import random\n",
    "\n",
    "random.seed(123)\n",
    "\n",
    "b = 0.\n",
    "X = [[random.random() for _ in range(1000)] # 500 rows\n",
    "     for i in range(500)]\n",
    "w = [random.random() for _ in range(1000)]\n",
    "\n",
    "\n",
    "X[10][10] = 'a'"
   ]
  },
  {
   "cell_type": "code",
   "execution_count": 2,
   "id": "d8dfdf6a-bfbd-46e5-b542-f35bfe0c8abe",
   "metadata": {},
   "outputs": [],
   "source": [
    "def my_func(X, w, b):\n",
    "    outputs = []\n",
    "    for x in X:\n",
    "        output = b\n",
    "        for x_j, w_j in zip(x, w):\n",
    "            output += x_j * w_j    \n",
    "        outputs.append(output)\n",
    "    return outputs"
   ]
  },
  {
   "cell_type": "code",
   "execution_count": 3,
   "id": "276ef076-0134-46eb-a04d-d38c0e8b2b15",
   "metadata": {},
   "outputs": [
    {
     "ename": "TypeError",
     "evalue": "can't multiply sequence by non-int of type 'float'",
     "output_type": "error",
     "traceback": [
      "\u001b[0;31m---------------------------------------------------------------------------\u001b[0m",
      "\u001b[0;31mTypeError\u001b[0m                                 Traceback (most recent call last)",
      "Input \u001b[0;32mIn [3]\u001b[0m, in \u001b[0;36m<cell line: 1>\u001b[0;34m()\u001b[0m\n\u001b[0;32m----> 1\u001b[0m \u001b[43mmy_func\u001b[49m\u001b[43m(\u001b[49m\u001b[43mX\u001b[49m\u001b[43m,\u001b[49m\u001b[43m \u001b[49m\u001b[43mw\u001b[49m\u001b[43m,\u001b[49m\u001b[43m \u001b[49m\u001b[43mb\u001b[49m\u001b[43m)\u001b[49m\n",
      "Input \u001b[0;32mIn [2]\u001b[0m, in \u001b[0;36mmy_func\u001b[0;34m(X, w, b)\u001b[0m\n\u001b[1;32m      4\u001b[0m     output \u001b[38;5;241m=\u001b[39m b\n\u001b[1;32m      5\u001b[0m     \u001b[38;5;28;01mfor\u001b[39;00m x_j, w_j \u001b[38;5;129;01min\u001b[39;00m \u001b[38;5;28mzip\u001b[39m(x, w):\n\u001b[0;32m----> 6\u001b[0m         output \u001b[38;5;241m+\u001b[39m\u001b[38;5;241m=\u001b[39m \u001b[43mx_j\u001b[49m\u001b[43m \u001b[49m\u001b[38;5;241;43m*\u001b[39;49m\u001b[43m \u001b[49m\u001b[43mw_j\u001b[49m    \n\u001b[1;32m      7\u001b[0m     outputs\u001b[38;5;241m.\u001b[39mappend(output)\n\u001b[1;32m      8\u001b[0m \u001b[38;5;28;01mreturn\u001b[39;00m outputs\n",
      "\u001b[0;31mTypeError\u001b[0m: can't multiply sequence by non-int of type 'float'"
     ]
    }
   ],
   "source": [
    "r = my_func(X, w, b)"
   ]
  },
  {
   "cell_type": "markdown",
   "id": "7149ad7f-349b-4062-9206-73c19baf9554",
   "metadata": {},
   "source": [
    "# Debugging with Print Statements"
   ]
  },
  {
   "cell_type": "code",
   "execution_count": 4,
   "id": "98d18884-152b-4110-a2f6-124a42dba5ba",
   "metadata": {},
   "outputs": [],
   "source": [
    "def my_func(X, w, b):\n",
    "    outputs = []\n",
    "    for x in X:\n",
    "        output = b\n",
    "        for x_j, w_j in zip(x, w):\n",
    "            print(x_j, w_j)\n",
    "            output += x_j * w_j    \n",
    "        outputs.append(output)\n",
    "    return outputs"
   ]
  },
  {
   "cell_type": "code",
   "execution_count": 18,
   "id": "5637fa7d-b74d-4ad7-b5f2-5ee0e258818e",
   "metadata": {},
   "outputs": [],
   "source": [
    "# r = my_func(X, w, b)"
   ]
  },
  {
   "cell_type": "markdown",
   "id": "e0bb9198-8738-4b47-a1dc-2de476838436",
   "metadata": {},
   "source": [
    "# Using PDB"
   ]
  },
  {
   "cell_type": "code",
   "execution_count": 16,
   "id": "8acd92e7-1231-4f7d-a37e-57f884b4dbef",
   "metadata": {},
   "outputs": [],
   "source": [
    "def my_func(X, w, b):\n",
    "    outputs = []\n",
    "    for j, x in enumerate(X):\n",
    "        output = b\n",
    "        for i, (x_j, w_j) in enumerate(zip(x, w)):\n",
    "            #import pdb; pdb.set_trace()\n",
    "            try:\n",
    "                output += x_j * w_j\n",
    "            except:\n",
    "                import pdb; pdb.post_mortem()\n",
    "        outputs.append(output)\n",
    "    return outputs"
   ]
  },
  {
   "cell_type": "code",
   "execution_count": 17,
   "id": "6a105b61-ef62-4471-ab21-24e71f56f504",
   "metadata": {},
   "outputs": [
    {
     "name": "stdout",
     "output_type": "stream",
     "text": [
      "> \u001b[0;32m/var/folders/jg/tpqyh1fd5js5wsr1d138k3n40000gn/T/ipykernel_28670/324715008.py\u001b[0m(8)\u001b[0;36mmy_func\u001b[0;34m()\u001b[0m\n",
      "\u001b[0;32m      6 \u001b[0;31m            \u001b[0;31m#import pdb; pdb.set_trace()\u001b[0m\u001b[0;34m\u001b[0m\u001b[0;34m\u001b[0m\u001b[0m\n",
      "\u001b[0m\u001b[0;32m      7 \u001b[0;31m            \u001b[0;32mtry\u001b[0m\u001b[0;34m:\u001b[0m\u001b[0;34m\u001b[0m\u001b[0;34m\u001b[0m\u001b[0m\n",
      "\u001b[0m\u001b[0;32m----> 8 \u001b[0;31m                \u001b[0moutput\u001b[0m \u001b[0;34m+=\u001b[0m \u001b[0mx_j\u001b[0m \u001b[0;34m*\u001b[0m \u001b[0mw_j\u001b[0m\u001b[0;34m\u001b[0m\u001b[0;34m\u001b[0m\u001b[0m\n",
      "\u001b[0m\u001b[0;32m      9 \u001b[0;31m            \u001b[0;32mexcept\u001b[0m\u001b[0;34m:\u001b[0m\u001b[0;34m\u001b[0m\u001b[0;34m\u001b[0m\u001b[0m\n",
      "\u001b[0m\u001b[0;32m     10 \u001b[0;31m                \u001b[0;32mimport\u001b[0m \u001b[0mpdb\u001b[0m\u001b[0;34m;\u001b[0m \u001b[0mpdb\u001b[0m\u001b[0;34m.\u001b[0m\u001b[0mpost_mortem\u001b[0m\u001b[0;34m(\u001b[0m\u001b[0;34m)\u001b[0m\u001b[0;34m\u001b[0m\u001b[0;34m\u001b[0m\u001b[0m\n",
      "\u001b[0m\n"
     ]
    },
    {
     "name": "stdout",
     "output_type": "stream",
     "text": [
      "ipdb>  p w_j\n"
     ]
    },
    {
     "name": "stdout",
     "output_type": "stream",
     "text": [
      "0.10190626841302075\n"
     ]
    },
    {
     "name": "stdout",
     "output_type": "stream",
     "text": [
      "ipdb>  p x_j\n"
     ]
    },
    {
     "name": "stdout",
     "output_type": "stream",
     "text": [
      "'a'\n"
     ]
    },
    {
     "name": "stdout",
     "output_type": "stream",
     "text": [
      "ipdb>  p i\n"
     ]
    },
    {
     "name": "stdout",
     "output_type": "stream",
     "text": [
      "10\n"
     ]
    },
    {
     "name": "stdout",
     "output_type": "stream",
     "text": [
      "ipdb>  p j\n"
     ]
    },
    {
     "name": "stdout",
     "output_type": "stream",
     "text": [
      "10\n"
     ]
    },
    {
     "name": "stdout",
     "output_type": "stream",
     "text": [
      "ipdb>  exit\n"
     ]
    }
   ],
   "source": [
    "r = my_func(X, w, b)"
   ]
  },
  {
   "cell_type": "code",
   "execution_count": 18,
   "id": "a136ba57-9058-4c1e-af9d-b01da9c27bc6",
   "metadata": {},
   "outputs": [
    {
     "data": {
      "text/plain": [
       "'a'"
      ]
     },
     "execution_count": 18,
     "metadata": {},
     "output_type": "execute_result"
    }
   ],
   "source": [
    "X[10][10]"
   ]
  }
 ],
 "metadata": {
  "kernelspec": {
   "display_name": "Python 3 (ipykernel)",
   "language": "python",
   "name": "python3"
  },
  "language_info": {
   "codemirror_mode": {
    "name": "ipython",
    "version": 3
   },
   "file_extension": ".py",
   "mimetype": "text/x-python",
   "name": "python",
   "nbconvert_exporter": "python",
   "pygments_lexer": "ipython3",
   "version": "3.9.13"
  }
 },
 "nbformat": 4,
 "nbformat_minor": 5
}
