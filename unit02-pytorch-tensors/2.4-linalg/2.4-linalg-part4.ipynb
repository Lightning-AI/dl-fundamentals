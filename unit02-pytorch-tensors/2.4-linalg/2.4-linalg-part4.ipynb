{
 "cells": [
  {
   "cell_type": "markdown",
   "id": "f083e4aa-9159-433d-b26b-b21395c72e7c",
   "metadata": {},
   "source": [
    "# 2.4 Improving Code Efficiency with Linear Algebra"
   ]
  },
  {
   "cell_type": "markdown",
   "id": "e486d26d-ce2c-4865-8794-7f1f76838043",
   "metadata": {},
   "source": [
    "## Part 4: Broadcasting — Computations with Unequal Tensor Shapes"
   ]
  },
  {
   "cell_type": "code",
   "execution_count": 3,
   "id": "b1584b82-1800-48e5-9966-c9abe98a3388",
   "metadata": {},
   "outputs": [],
   "source": [
    "import torch"
   ]
  },
  {
   "cell_type": "code",
   "execution_count": 5,
   "id": "a7ddc248-42a7-4769-a9f8-c1939b528af2",
   "metadata": {},
   "outputs": [
    {
     "data": {
      "text/plain": [
       "tensor([6.5000, 7.6000, 8.7000, 9.8000])"
      ]
     },
     "execution_count": 5,
     "metadata": {},
     "output_type": "execute_result"
    }
   ],
   "source": [
    "a = torch.tensor([1.1, 2.1, 3.1, 4.1])\n",
    "\n",
    "b = torch.tensor([5.4, 5.5, 5.6, 5.7])\n",
    "\n",
    "a + b"
   ]
  },
  {
   "cell_type": "code",
   "execution_count": 7,
   "id": "e34b95b0-5310-4906-9980-eb4c6c1f803d",
   "metadata": {},
   "outputs": [
    {
     "data": {
      "text/plain": [
       "tensor([[6.5000, 7.6000, 8.7000, 9.8000],\n",
       "        [6.6000, 7.7000, 8.8000, 9.9000]])"
      ]
     },
     "execution_count": 7,
     "metadata": {},
     "output_type": "execute_result"
    }
   ],
   "source": [
    "A = torch.tensor([[1.1, 2.1, 3.1, 4.1],\n",
    "                  [1.2, 2.2, 3.2, 4.2]])\n",
    "\n",
    "b = torch.tensor([5.4, 5.5, 5.6, 5.7])\n",
    "\n",
    "A + b"
   ]
  },
  {
   "cell_type": "code",
   "execution_count": null,
   "id": "7dd2e2aa-be40-4dd8-a70e-913bfce86e5a",
   "metadata": {},
   "outputs": [],
   "source": []
  }
 ],
 "metadata": {
  "kernelspec": {
   "display_name": "Python 3 (ipykernel)",
   "language": "python",
   "name": "python3"
  },
  "language_info": {
   "codemirror_mode": {
    "name": "ipython",
    "version": 3
   },
   "file_extension": ".py",
   "mimetype": "text/x-python",
   "name": "python",
   "nbconvert_exporter": "python",
   "pygments_lexer": "ipython3",
   "version": "3.9.13"
  }
 },
 "nbformat": 4,
 "nbformat_minor": 5
}
