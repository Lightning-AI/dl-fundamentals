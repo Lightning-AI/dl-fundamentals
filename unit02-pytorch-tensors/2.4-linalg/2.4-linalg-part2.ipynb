{
 "cells": [
  {
   "cell_type": "markdown",
   "id": "9c72c885-1092-4c59-90f5-380e0e21e7fe",
   "metadata": {},
   "source": [
    "# 2.4 Improving Code Efficiency with Linear Algebra"
   ]
  },
  {
   "cell_type": "markdown",
   "id": "91892944-ff93-443b-9afb-26055b3e5272",
   "metadata": {},
   "source": [
    "## Part 2: Dealing with Multiple Training Examples via Matrix Multiplication"
   ]
  },
  {
   "cell_type": "code",
   "execution_count": 1,
   "id": "b1584b82-1800-48e5-9966-c9abe98a3388",
   "metadata": {},
   "outputs": [
    {
     "data": {
      "text/plain": [
       "[13.42, 38.17]"
      ]
     },
     "execution_count": 1,
     "metadata": {},
     "output_type": "execute_result"
    }
   ],
   "source": [
    "b = 0.\n",
    "X = [[1.2, 2.2], \n",
    "     [4.4, 5.5]]\n",
    "w = [3.3, 4.3]\n",
    "\n",
    "\n",
    "outputs = []\n",
    "for x in X:\n",
    "    output = b\n",
    "    for x_j, w_j in zip(x, w):\n",
    "        output += x_j * w_j    \n",
    "    outputs.append(output)\n",
    "\n",
    "outputs"
   ]
  },
  {
   "cell_type": "code",
   "execution_count": 2,
   "id": "a8d1dd29-a07c-427a-828b-b1d09045ca6c",
   "metadata": {},
   "outputs": [
    {
     "data": {
      "text/plain": [
       "tensor([13.4200, 38.1700])"
      ]
     },
     "execution_count": 2,
     "metadata": {},
     "output_type": "execute_result"
    }
   ],
   "source": [
    "import torch\n",
    "\n",
    "b = torch.tensor([0.])\n",
    "X = torch.tensor(\n",
    "   [[1.2, 2.2], \n",
    "    [4.4, 5.5]]\n",
    ")\n",
    "w = torch.tensor([3.3, 4.3])\n",
    "\n",
    "X.matmul(w) + b"
   ]
  },
  {
   "cell_type": "markdown",
   "id": "cc03bd03-42e8-42e9-9b1e-d058eea649da",
   "metadata": {},
   "source": [
    "# Benchmark"
   ]
  },
  {
   "cell_type": "code",
   "execution_count": 3,
   "id": "e9d58214-6391-44e9-a464-640ad221113a",
   "metadata": {},
   "outputs": [],
   "source": [
    "import random\n",
    "\n",
    "random.seed(123)\n",
    "\n",
    "b = 0.\n",
    "X = [[random.random() for _ in range(1000)] # 500 rows\n",
    "     for i in range(500)]\n",
    "w = [random.random() for _ in range(1000)]"
   ]
  },
  {
   "cell_type": "code",
   "execution_count": 4,
   "id": "f1705401-2f79-48e1-aae7-776dd72a1076",
   "metadata": {},
   "outputs": [],
   "source": [
    "def plain_python(X, w, b):\n",
    "    outputs = []\n",
    "    for x in X:\n",
    "        output = b\n",
    "        for x_j, w_j in zip(x, w):\n",
    "            output += x_j * w_j    \n",
    "        outputs.append(output)\n",
    "    return outputs"
   ]
  },
  {
   "cell_type": "code",
   "execution_count": 5,
   "id": "977e10bc-120d-43c6-b307-18e08fdebe1e",
   "metadata": {},
   "outputs": [
    {
     "name": "stdout",
     "output_type": "stream",
     "text": [
      "18.7 ms ± 557 µs per loop (mean ± std. dev. of 7 runs, 100 loops each)\n"
     ]
    }
   ],
   "source": [
    "%timeit plain_python(X, w, b)"
   ]
  },
  {
   "cell_type": "code",
   "execution_count": 6,
   "id": "0c75705a-7b31-4b6c-b671-efb79183ad3d",
   "metadata": {},
   "outputs": [],
   "source": [
    "t_b = torch.tensor(b)\n",
    "t_X = torch.tensor(X)\n",
    "t_w = torch.tensor(w)"
   ]
  },
  {
   "cell_type": "code",
   "execution_count": 7,
   "id": "1795cf5c-dacf-46f8-b71e-523d607aa549",
   "metadata": {},
   "outputs": [],
   "source": [
    "def pytorch_implementation(X, w, b):\n",
    "    return X.matmul(w) + b"
   ]
  },
  {
   "cell_type": "code",
   "execution_count": 8,
   "id": "779f4632-6c4b-4873-a2bf-b4912a132107",
   "metadata": {},
   "outputs": [
    {
     "name": "stdout",
     "output_type": "stream",
     "text": [
      "26.1 µs ± 549 ns per loop (mean ± std. dev. of 7 runs, 10,000 loops each)\n"
     ]
    }
   ],
   "source": [
    "%timeit pytorch_implementation(t_X, t_w, t_b)"
   ]
  }
 ],
 "metadata": {
  "kernelspec": {
   "display_name": "Python 3 (ipykernel)",
   "language": "python",
   "name": "python3"
  },
  "language_info": {
   "codemirror_mode": {
    "name": "ipython",
    "version": 3
   },
   "file_extension": ".py",
   "mimetype": "text/x-python",
   "name": "python",
   "nbconvert_exporter": "python",
   "pygments_lexer": "ipython3",
   "version": "3.9.13"
  }
 },
 "nbformat": 4,
 "nbformat_minor": 5
}
