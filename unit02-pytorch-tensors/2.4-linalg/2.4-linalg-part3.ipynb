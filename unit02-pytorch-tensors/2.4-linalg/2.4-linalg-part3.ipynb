{
 "cells": [
  {
   "cell_type": "markdown",
   "id": "096a0d67-f4de-43c2-b481-a339da7d061a",
   "metadata": {},
   "source": [
    "# 2.4 Improving Code Efficiency with Linear Algebra\n",
    "\n",
    "## Part 3: Multiplying Two Matrices"
   ]
  },
  {
   "cell_type": "code",
   "execution_count": 1,
   "id": "75bf6436-d130-476b-a802-f8ad8714e74a",
   "metadata": {},
   "outputs": [],
   "source": [
    "import torch\n",
    "\n",
    "\n",
    "X = torch.rand(100, 10)\n",
    "W = torch.rand(50, 10)\n",
    "\n",
    "R = torch.matmul(X, W.T)"
   ]
  },
  {
   "cell_type": "code",
   "execution_count": 2,
   "id": "87015b5e-63e1-4ba5-a86e-e3c030e12016",
   "metadata": {},
   "outputs": [
    {
     "data": {
      "text/plain": [
       "torch.Size([100, 50])"
      ]
     },
     "execution_count": 2,
     "metadata": {},
     "output_type": "execute_result"
    }
   ],
   "source": [
    "R.shape"
   ]
  }
 ],
 "metadata": {
  "kernelspec": {
   "display_name": "Python 3 (ipykernel)",
   "language": "python",
   "name": "python3"
  },
  "language_info": {
   "codemirror_mode": {
    "name": "ipython",
    "version": 3
   },
   "file_extension": ".py",
   "mimetype": "text/x-python",
   "name": "python",
   "nbconvert_exporter": "python",
   "pygments_lexer": "ipython3",
   "version": "3.9.13"
  }
 },
 "nbformat": 4,
 "nbformat_minor": 5
}
