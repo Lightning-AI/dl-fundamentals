{
 "cells": [
  {
   "cell_type": "markdown",
   "id": "9734d1d7-26d7-4c3a-aea8-b580efa92322",
   "metadata": {},
   "source": [
    "# My Top 10 Tensor Functions and Methods"
   ]
  },
  {
   "cell_type": "markdown",
   "id": "aba57178-1962-4096-9c02-049546979b3f",
   "metadata": {},
   "source": [
    "# 1: Creating Tensors"
   ]
  },
  {
   "cell_type": "code",
   "execution_count": 1,
   "id": "9befa327-2940-498c-95b7-3d7fea095dad",
   "metadata": {},
   "outputs": [
    {
     "name": "stdout",
     "output_type": "stream",
     "text": [
      "tensor([[1., 2., 3.],\n",
      "        [4., 5., 6.]])\n"
     ]
    }
   ],
   "source": [
    "import torch\n",
    "\n",
    "\n",
    "m = torch.tensor([[1., 2., 3.],\n",
    "                  [4., 5., 6.]])\n",
    "print(m)"
   ]
  },
  {
   "cell_type": "markdown",
   "id": "7d75f164-cb59-477f-83c8-5b5121908d2b",
   "metadata": {},
   "source": [
    "# 2: Checking the Shape"
   ]
  },
  {
   "cell_type": "code",
   "execution_count": 2,
   "id": "37285637-845c-48be-aa69-92818bb9f288",
   "metadata": {},
   "outputs": [
    {
     "name": "stdout",
     "output_type": "stream",
     "text": [
      "tensor([[1., 2., 3.],\n",
      "        [4., 5., 6.]])\n"
     ]
    }
   ],
   "source": [
    "print(m)"
   ]
  },
  {
   "cell_type": "code",
   "execution_count": 3,
   "id": "952d8ced-064c-446d-906a-f04700b0f1f4",
   "metadata": {},
   "outputs": [
    {
     "name": "stdout",
     "output_type": "stream",
     "text": [
      "torch.Size([2, 3])\n"
     ]
    }
   ],
   "source": [
    "print(m.shape)"
   ]
  },
  {
   "cell_type": "markdown",
   "id": "6ecd7950-9789-4d4c-9b12-56c97e35255f",
   "metadata": {},
   "source": [
    "# 3: Checking the Rank / Number of Dimensions"
   ]
  },
  {
   "cell_type": "code",
   "execution_count": 4,
   "id": "07ccf780-2942-4b49-9623-0dab4b3b7da7",
   "metadata": {},
   "outputs": [
    {
     "name": "stdout",
     "output_type": "stream",
     "text": [
      "tensor([[1., 2., 3.],\n",
      "        [4., 5., 6.]])\n"
     ]
    }
   ],
   "source": [
    "print(m)"
   ]
  },
  {
   "cell_type": "code",
   "execution_count": 5,
   "id": "d6356788-7968-4f54-9f59-d48f4f6175d8",
   "metadata": {},
   "outputs": [
    {
     "name": "stdout",
     "output_type": "stream",
     "text": [
      "2\n"
     ]
    }
   ],
   "source": [
    "print(m.ndim)"
   ]
  },
  {
   "cell_type": "code",
   "execution_count": 6,
   "id": "d65071bc-a7f4-450e-85b8-cc10327f2c9f",
   "metadata": {},
   "outputs": [
    {
     "name": "stdout",
     "output_type": "stream",
     "text": [
      "2\n"
     ]
    }
   ],
   "source": [
    "print(len(m.shape))"
   ]
  },
  {
   "cell_type": "markdown",
   "id": "029fb6dc-9854-4b0c-b877-ae352992cc44",
   "metadata": {},
   "source": [
    "# 4: Checking the Data Type"
   ]
  },
  {
   "cell_type": "code",
   "execution_count": 7,
   "id": "52d85f10-0dc8-4f06-b123-ec07a412272f",
   "metadata": {},
   "outputs": [
    {
     "name": "stdout",
     "output_type": "stream",
     "text": [
      "tensor([[1., 2., 3.],\n",
      "        [4., 5., 6.]])\n"
     ]
    }
   ],
   "source": [
    "print(m)"
   ]
  },
  {
   "cell_type": "code",
   "execution_count": 8,
   "id": "d602a2c4-2d71-4259-b622-cb00a5c79a27",
   "metadata": {},
   "outputs": [
    {
     "name": "stdout",
     "output_type": "stream",
     "text": [
      "torch.float32\n"
     ]
    }
   ],
   "source": [
    "print(m.dtype)"
   ]
  },
  {
   "cell_type": "code",
   "execution_count": 9,
   "id": "1b7e5eec-3d9f-4953-bdb1-8876b8dd26e9",
   "metadata": {},
   "outputs": [
    {
     "name": "stdout",
     "output_type": "stream",
     "text": [
      "tensor([[1, 2, 3],\n",
      "        [4, 5, 6]])\n"
     ]
    }
   ],
   "source": [
    "other_m = torch.tensor([[1, 2, 3],\n",
    "                        [4, 5, 6]])\n",
    "print(other_m)"
   ]
  },
  {
   "cell_type": "code",
   "execution_count": 10,
   "id": "eb953be2-af42-4ae5-9970-be410c2d1d02",
   "metadata": {},
   "outputs": [
    {
     "name": "stdout",
     "output_type": "stream",
     "text": [
      "torch.int64\n"
     ]
    }
   ],
   "source": [
    "print(other_m.dtype)"
   ]
  },
  {
   "cell_type": "markdown",
   "id": "43ca1aba-b1c5-47ed-a0f1-e47db73505bc",
   "metadata": {},
   "source": [
    "# 5: Creating a Tensor From NumPy Arrays"
   ]
  },
  {
   "cell_type": "code",
   "execution_count": 11,
   "id": "709e206b-f7e4-4eb0-8821-4ac0cf4226a4",
   "metadata": {},
   "outputs": [
    {
     "name": "stdout",
     "output_type": "stream",
     "text": [
      "tensor([1., 2., 3.], dtype=torch.float64)\n"
     ]
    }
   ],
   "source": [
    "import numpy as np\n",
    "\n",
    "np_ary = np.array([1., 2., 3.])\n",
    "m2 = torch.from_numpy(np_ary)\n",
    "\n",
    "print(m2)"
   ]
  },
  {
   "cell_type": "code",
   "execution_count": 12,
   "id": "ecfd92e6-71b3-46be-ac45-5f474e07e80a",
   "metadata": {},
   "outputs": [
    {
     "name": "stdout",
     "output_type": "stream",
     "text": [
      "tensor([1., 2., 3.], dtype=torch.float64)\n"
     ]
    }
   ],
   "source": [
    "m3 = torch.tensor(np_ary)\n",
    "\n",
    "print(m3)"
   ]
  },
  {
   "cell_type": "markdown",
   "id": "fd858081-6ec6-4cde-b324-892ece00784e",
   "metadata": {},
   "source": [
    "# 6: Changing Data Types"
   ]
  },
  {
   "cell_type": "code",
   "execution_count": 13,
   "id": "a0c4544d-9dd3-4211-a5bc-6af1a6111d20",
   "metadata": {},
   "outputs": [
    {
     "name": "stdout",
     "output_type": "stream",
     "text": [
      "torch.float64\n"
     ]
    }
   ],
   "source": [
    "print(m2.dtype)"
   ]
  },
  {
   "cell_type": "code",
   "execution_count": 14,
   "id": "d551178a-bc4f-4ca1-96e6-dafae5276ee8",
   "metadata": {},
   "outputs": [
    {
     "name": "stdout",
     "output_type": "stream",
     "text": [
      "torch.float32\n"
     ]
    }
   ],
   "source": [
    "m2 = m2.to(torch.float32)\n",
    "print(m2.dtype)"
   ]
  },
  {
   "cell_type": "markdown",
   "id": "e25fbe55-acc5-45af-892c-a198a81dafc2",
   "metadata": {},
   "source": [
    "# 7: Checking the Device Type"
   ]
  },
  {
   "cell_type": "code",
   "execution_count": 15,
   "id": "a58549ab-1e79-4384-993c-b965d8d71520",
   "metadata": {},
   "outputs": [
    {
     "data": {
      "text/plain": [
       "device(type='cpu')"
      ]
     },
     "execution_count": 15,
     "metadata": {},
     "output_type": "execute_result"
    }
   ],
   "source": [
    "m2.device"
   ]
  },
  {
   "cell_type": "markdown",
   "id": "599db000-601e-4b88-b9a1-c1380256bb47",
   "metadata": {},
   "source": [
    "# 8: Changing the Tensor Shape"
   ]
  },
  {
   "cell_type": "code",
   "execution_count": 16,
   "id": "4e4e26d2-81ef-4877-83e9-e5ac57018d08",
   "metadata": {},
   "outputs": [
    {
     "name": "stdout",
     "output_type": "stream",
     "text": [
      "tensor([[1., 2., 3.],\n",
      "        [4., 5., 6.]])\n"
     ]
    }
   ],
   "source": [
    "print(m)"
   ]
  },
  {
   "cell_type": "code",
   "execution_count": 17,
   "id": "c5210eed-b9c7-4190-9508-1c4ee3959ee2",
   "metadata": {},
   "outputs": [
    {
     "name": "stdout",
     "output_type": "stream",
     "text": [
      "tensor([[1., 2.],\n",
      "        [3., 4.],\n",
      "        [5., 6.]])\n"
     ]
    }
   ],
   "source": [
    "print(m.view(3, 2))"
   ]
  },
  {
   "cell_type": "code",
   "execution_count": 18,
   "id": "6cb49fe2-b4af-40e9-9812-6901fd5b6c81",
   "metadata": {},
   "outputs": [
    {
     "name": "stdout",
     "output_type": "stream",
     "text": [
      "tensor([[1., 2.],\n",
      "        [3., 4.],\n",
      "        [5., 6.]])\n"
     ]
    }
   ],
   "source": [
    "print(m.view(-1, 2))"
   ]
  },
  {
   "cell_type": "code",
   "execution_count": 19,
   "id": "2972f1ab-d6b2-4920-ae7f-9f617bdb25e5",
   "metadata": {},
   "outputs": [
    {
     "name": "stdout",
     "output_type": "stream",
     "text": [
      "tensor([[1., 2.],\n",
      "        [3., 4.],\n",
      "        [5., 6.]])\n"
     ]
    }
   ],
   "source": [
    "print(m.view(3, -1))"
   ]
  },
  {
   "cell_type": "markdown",
   "id": "0a2b98a2-361d-4d8e-aca6-5553df5fa37a",
   "metadata": {},
   "source": [
    "# 9: Transposing a Tensor"
   ]
  },
  {
   "cell_type": "code",
   "execution_count": 20,
   "id": "caa7c58a-6037-40bb-bc97-347c6ab66109",
   "metadata": {},
   "outputs": [
    {
     "name": "stdout",
     "output_type": "stream",
     "text": [
      "tensor([[1., 2., 3.],\n",
      "        [4., 5., 6.]])\n"
     ]
    }
   ],
   "source": [
    "print(m)"
   ]
  },
  {
   "cell_type": "code",
   "execution_count": 21,
   "id": "5d77e237-a6bf-4b88-9cad-b6db461b9d44",
   "metadata": {},
   "outputs": [
    {
     "name": "stdout",
     "output_type": "stream",
     "text": [
      "tensor([[1., 4.],\n",
      "        [2., 5.],\n",
      "        [3., 6.]])\n"
     ]
    }
   ],
   "source": [
    "print(m.T)"
   ]
  },
  {
   "cell_type": "markdown",
   "id": "00f6b645-8171-4a4c-ae07-bc54edce4494",
   "metadata": {},
   "source": [
    "# 10: Multiplying Matrices"
   ]
  },
  {
   "cell_type": "code",
   "execution_count": 22,
   "id": "cadb1e16-4c18-4f09-8a5f-89eb2d3532d0",
   "metadata": {},
   "outputs": [
    {
     "name": "stdout",
     "output_type": "stream",
     "text": [
      "tensor([[1., 2., 3.],\n",
      "        [4., 5., 6.]])\n"
     ]
    }
   ],
   "source": [
    "print(m)"
   ]
  },
  {
   "cell_type": "code",
   "execution_count": 23,
   "id": "ef88caed-ee72-4cd3-8225-f27afc6fe94f",
   "metadata": {},
   "outputs": [
    {
     "name": "stdout",
     "output_type": "stream",
     "text": [
      "tensor([[1., 4.],\n",
      "        [2., 5.],\n",
      "        [3., 6.]])\n"
     ]
    }
   ],
   "source": [
    "print(m.T)"
   ]
  },
  {
   "cell_type": "code",
   "execution_count": 24,
   "id": "de41957e-bc17-4a0c-8993-6ec10cb2a68c",
   "metadata": {},
   "outputs": [
    {
     "data": {
      "text/plain": [
       "tensor([[14., 32.],\n",
       "        [32., 77.]])"
      ]
     },
     "execution_count": 24,
     "metadata": {},
     "output_type": "execute_result"
    }
   ],
   "source": [
    "m.matmul(m.T)"
   ]
  },
  {
   "cell_type": "code",
   "execution_count": 25,
   "id": "dfdca76e-d10d-47da-8b53-ef86c0fca40d",
   "metadata": {},
   "outputs": [
    {
     "data": {
      "text/plain": [
       "tensor(14.)"
      ]
     },
     "execution_count": 25,
     "metadata": {},
     "output_type": "execute_result"
    }
   ],
   "source": [
    "a = torch.tensor([1., 2., 3.])\n",
    "a.dot(a)"
   ]
  },
  {
   "cell_type": "code",
   "execution_count": 26,
   "id": "731ae797-6d75-4abf-a08e-77357a455352",
   "metadata": {},
   "outputs": [
    {
     "data": {
      "text/plain": [
       "tensor(14.)"
      ]
     },
     "execution_count": 26,
     "metadata": {},
     "output_type": "execute_result"
    }
   ],
   "source": [
    "a = torch.tensor([1., 2., 3.])\n",
    "a.matmul(a)"
   ]
  }
 ],
 "metadata": {
  "kernelspec": {
   "display_name": "Python 3 (ipykernel)",
   "language": "python",
   "name": "python3"
  },
  "language_info": {
   "codemirror_mode": {
    "name": "ipython",
    "version": 3
   },
   "file_extension": ".py",
   "mimetype": "text/x-python",
   "name": "python",
   "nbconvert_exporter": "python",
   "pygments_lexer": "ipython3",
   "version": "3.9.13"
  }
 },
 "nbformat": 4,
 "nbformat_minor": 5
}
